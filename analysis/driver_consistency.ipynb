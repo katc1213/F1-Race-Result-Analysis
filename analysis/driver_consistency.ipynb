{
 "cells": [
  {
   "cell_type": "markdown",
   "id": "8336b1ef",
   "metadata": {},
   "source": [
    "## F1 Consistency Dashboard\n",
    "This analysis will evaluate and visualize the consistency of F1 drivers from the past season (2024) based on their lap times and finishing positions from races."
   ]
  },
  {
   "cell_type": "markdown",
   "id": "25afab63",
   "metadata": {},
   "source": [
    "### Steps\n",
    "1. Find a valid dataset \n",
    "    - For the time being, we will use one from Kaggle. In the future, I would like to use an open source API from RapidAI called [Hyprace API](https://rapidapi.com/hyprace-hyprace-default/api/hyprace-api) to get real-time race data for the 2025 season.\n",
    "2. Import packages and read/load datasets from csv files\n",
    "3. Clean data and merge datasets\n",
    "    - Mainly using: lap_times.csv, results.csv, races.csv, drivers.csv\n",
    "4. Rename and rearrange columns"
   ]
  },
  {
   "cell_type": "code",
   "execution_count": 4,
   "id": "df35e9ae",
   "metadata": {},
   "outputs": [],
   "source": [
    "# import packages\n",
    "import numpy as np \n",
    "import pandas as pd \n",
    "import matplotlib.pyplot as plt \n",
    "import seaborn as sb \n",
    "\n",
    "#%matplob lib inline"
   ]
  },
  {
   "cell_type": "code",
   "execution_count": 9,
   "id": "521f939a",
   "metadata": {},
   "outputs": [],
   "source": [
    "lap_times = pd.read_csv('/Users/Kat/Documents/repos/F1-Race-Result-Analysis/data/raw/lap_times.csv')\n",
    "results = pd.read_csv('/Users/Kat/Documents/repos/F1-Race-Result-Analysis/data/raw/results.csv')\n",
    "races = pd.read_csv('/Users/Kat/Documents/repos/F1-Race-Result-Analysis/data/raw/races.csv')\n",
    "drivers = pd.read_csv('/Users/Kat/Documents/repos/F1-Race-Result-Analysis/data/raw/drivers.csv')"
   ]
  },
  {
   "cell_type": "code",
   "execution_count": 29,
   "id": "62a79b82",
   "metadata": {},
   "outputs": [
    {
     "name": "stdout",
     "output_type": "stream",
     "text": [
      "       resultId  raceId  driverId  constructorId number_x  grid position  \\\n",
      "26953     26959    1154       865            215        6    12       16   \n",
      "26954     26960    1154       840            117       18    17       17   \n",
      "26955     26961    1154       846              1        4     7       18   \n",
      "26956     26962    1154       859            215       30    19       19   \n",
      "26957     26963    1154       848              3       23     9       20   \n",
      "\n",
      "      positionText  positionOrder  points  ...  fastestLapSpeed statusId  \\\n",
      "26953           16             16     0.0  ...               \\N       11   \n",
      "26954           17             17     0.0  ...               \\N       11   \n",
      "26955           18             18     0.0  ...               \\N        4   \n",
      "26956            R             19     0.0  ...               \\N       25   \n",
      "26957            R             20     0.0  ...               \\N        5   \n",
      "\n",
      "       year                 name round driverRef number_y  code   forename  \\\n",
      "26953  2025  Canadian Grand Prix    10    hadjar        6   HAD      Isack   \n",
      "26954  2025  Canadian Grand Prix    10    stroll       18   STR      Lance   \n",
      "26955  2025  Canadian Grand Prix    10    norris        4   NOR      Lando   \n",
      "26956  2025  Canadian Grand Prix    10    lawson       30   LAW       Liam   \n",
      "26957  2025  Canadian Grand Prix    10     albon       23   ALB  Alexander   \n",
      "\n",
      "      surname  \n",
      "26953  Hadjar  \n",
      "26954  Stroll  \n",
      "26955  Norris  \n",
      "26956  Lawson  \n",
      "26957   Albon  \n",
      "\n",
      "[5 rows x 26 columns]\n"
     ]
    }
   ],
   "source": [
    "df = pd.merge(results, races[['raceId','year','name','round']], on='raceId', how='left')\n",
    "df = pd.merge(df, drivers[['driverId','driverRef','number','code','forename','surname']], on='driverId', how='left')\n",
    "print(df.tail(5))"
   ]
  },
  {
   "cell_type": "code",
   "execution_count": 30,
   "id": "4c39e8f3",
   "metadata": {},
   "outputs": [
    {
     "name": "stdout",
     "output_type": "stream",
     "text": [
      "       resultId  raceId  driverId  constructorId  grid position  \\\n",
      "26953     26959    1154       865            215    12       16   \n",
      "26954     26960    1154       840            117    17       17   \n",
      "26955     26961    1154       846              1     7       18   \n",
      "26956     26962    1154       859            215    19       19   \n",
      "26957     26963    1154       848              3     9       20   \n",
      "\n",
      "       positionOrder  laps           time milliseconds  ... fastestLapTime  \\\n",
      "26953             16    69         +8.737      5521425  ...       1:16.292   \n",
      "26954             17    69         +9.063      5521751  ...       1:14.902   \n",
      "26955             18    66  +-1:52:04.782      5037470  ...       1:14.229   \n",
      "26956             19    53             \\N           \\N  ...       1:16.320   \n",
      "26957             20    46             \\N           \\N  ...       1:16.197   \n",
      "\n",
      "      fastestLapSpeed  year                 name  round driverRef  number_y  \\\n",
      "26953              \\N  2025  Canadian Grand Prix     10    hadjar         6   \n",
      "26954              \\N  2025  Canadian Grand Prix     10    stroll        18   \n",
      "26955              \\N  2025  Canadian Grand Prix     10    norris         4   \n",
      "26956              \\N  2025  Canadian Grand Prix     10    lawson        30   \n",
      "26957              \\N  2025  Canadian Grand Prix     10     albon        23   \n",
      "\n",
      "      code   forename surname  \n",
      "26953  HAD      Isack  Hadjar  \n",
      "26954  STR      Lance  Stroll  \n",
      "26955  NOR      Lando  Norris  \n",
      "26956  LAW       Liam  Lawson  \n",
      "26957  ALB  Alexander   Albon  \n",
      "\n",
      "[5 rows x 22 columns]\n"
     ]
    }
   ],
   "source": [
    "# drop columns\n",
    "df.drop(['positionText','points','number_x','statusId'], axis=1, inplace=True)\n",
    "print(df.tail(5))\n"
   ]
  }
 ],
 "metadata": {
  "kernelspec": {
   "display_name": "Python 3 (ipykernel)",
   "language": "python",
   "name": "python3"
  },
  "language_info": {
   "codemirror_mode": {
    "name": "ipython",
    "version": 3
   },
   "file_extension": ".py",
   "mimetype": "text/x-python",
   "name": "python",
   "nbconvert_exporter": "python",
   "pygments_lexer": "ipython3",
   "version": "3.13.5"
  }
 },
 "nbformat": 4,
 "nbformat_minor": 5
}
